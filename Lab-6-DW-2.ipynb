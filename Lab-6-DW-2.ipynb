{
 "cells": [
  {
   "cell_type": "code",
   "execution_count": 1,
   "metadata": {},
   "outputs": [],
   "source": [
    "import regex as re"
   ]
  },
  {
   "cell_type": "markdown",
   "metadata": {},
   "source": [
    "# Regex"
   ]
  },
  {
   "cell_type": "markdown",
   "metadata": {},
   "source": [
    "# 1\n",
    "1.) Genere una expresión regular que sea capaz de detectar las placas de un vehículo particular guatemalteco."
   ]
  },
  {
   "cell_type": "markdown",
   "metadata": {},
   "source": [
    "Para este ejercicio me base en la informacion de \"Matriculas del Mundo\" en la seccion de 'Matricuals de Guatemala (GCA)'.\n",
    "La pagina la pueden encontrar ingresando al siguiente link:\n",
    "    https://www.matriculasdelmundo.com/guatemala.html "
   ]
  },
  {
   "cell_type": "code",
   "execution_count": 2,
   "metadata": {},
   "outputs": [
    {
     "name": "stdout",
     "output_type": "stream",
     "text": [
      "['P001BCD', 'M657CJK', 'MI203FNY', 'CD502VQK']\n"
     ]
    }
   ],
   "source": [
    "placas = ['P001BCD', \n",
    "          'M657CJK', \n",
    "          'MI203FNY',\n",
    "          'CD502VQK']\n",
    "print(placas)"
   ]
  },
  {
   "cell_type": "code",
   "execution_count": 3,
   "metadata": {
    "scrolled": true
   },
   "outputs": [
    {
     "name": "stdout",
     "output_type": "stream",
     "text": [
      "['P001BCD', 'M657CJK', 'MI203FNY', 'CD502VQK']\n"
     ]
    }
   ],
   "source": [
    "r1 = re.compile('(A|C|CC|CD|M|MI|O|P|TC|U)' + '\\d{3}' + '\\D{3}')\n",
    "placas_result = list(filter(r1.match, placas))\n",
    "print(placas_result)"
   ]
  },
  {
   "cell_type": "markdown",
   "metadata": {},
   "source": [
    "## 2"
   ]
  },
  {
   "cell_type": "markdown",
   "metadata": {},
   "source": [
    "2.) Genere una expresión regular que valide si un archivo es de tipo .pdf o jpg. a. Ejemplo1.pdf,prueba2.PDF,respuestas_del_examen.jpg,amor.JPG"
   ]
  },
  {
   "cell_type": "code",
   "execution_count": 4,
   "metadata": {},
   "outputs": [
    {
     "name": "stdout",
     "output_type": "stream",
     "text": [
      "['Ejemplo1.pdf', 'prueba2.PDF', 'respuestas_del_examen.jpg', 'amor.JPG']\n"
     ]
    }
   ],
   "source": [
    "archivos = ['Ejemplo1.pdf', \n",
    "          'prueba2.PDF', \n",
    "          'respuestas_del_examen.jpg',\n",
    "          'amor.JPG']\n",
    "print(archivos)"
   ]
  },
  {
   "cell_type": "code",
   "execution_count": 5,
   "metadata": {},
   "outputs": [
    {
     "name": "stdout",
     "output_type": "stream",
     "text": [
      "Los archivos en PDF son:\n",
      "['Ejemplo1.pdf', 'prueba2.PDF']\n",
      "\n",
      "Los archivos en JPG son:\n",
      "['respuestas_del_examen.jpg', 'amor.JPG']\n"
     ]
    }
   ],
   "source": [
    "r21 = re.compile('[\\w]+\\.(pdf|PDF)')\n",
    "archivos_PDF = list(filter(r21.match, archivos))\n",
    "print(\"Los archivos en PDF son:\")\n",
    "print(archivos_PDF)\n",
    "r22 = re.compile('[\\w]+\\.(jpg|JPG)')\n",
    "archivos_JPG = list(filter(r22.match, archivos))\n",
    "print(\"\\nLos archivos en JPG son:\")\n",
    "print(archivos_JPG)"
   ]
  },
  {
   "cell_type": "markdown",
   "metadata": {},
   "source": [
    "## 3\n",
    "3.) Genere una expresión regular para validar contraseñas de correo. Una contraseña de correo debe contener por lo menos 8 caracteres, una letra mayúscula y un carácter especial."
   ]
  },
  {
   "cell_type": "code",
   "execution_count": 6,
   "metadata": {},
   "outputs": [
    {
     "name": "stdout",
     "output_type": "stream",
     "text": [
      "['Tkdh8kdhg', '98haiKMi', 'mdh35kdh8', 'SIllon']\n"
     ]
    }
   ],
   "source": [
    "contrasenia = ['Tkdh8kdhg', \n",
    "          '98haiKMi', \n",
    "          'mdh35kdh8',\n",
    "          'SIllon']\n",
    "print(contrasenia)"
   ]
  },
  {
   "cell_type": "code",
   "execution_count": 7,
   "metadata": {},
   "outputs": [
    {
     "name": "stdout",
     "output_type": "stream",
     "text": [
      "['Tkdh8kdhg', '98haiKMi']\n"
     ]
    }
   ],
   "source": [
    "r3 = re.compile('^(?=.*[a-z])(?=.*[A-Z])(?=.*\\d)(?!.*[&%$]).{8,}$')\n",
    "contrasenia_result = list(filter(r3.match, contrasenia))\n",
    "print(contrasenia_result)"
   ]
  },
  {
   "cell_type": "markdown",
   "metadata": {},
   "source": [
    "## 4\n",
    "4.) Cree una expresión regular para validar un numero de carnet de la Universidad Galileo, por ejemplo 19002324 donde los primeros dos dígitos representan el año en el que el alumno se inscribió los cuales pueden variar desde el 01 (año 2001) hasta el 30 (año 2030). Los siguientes dos dígitos son cero (00) los cuales van por default y los últimos cuatro dígitos son un número que va desde el 1110 hasta el 8970. Para dar su respuesta utilice la notación de expresiones regulares."
   ]
  },
  {
   "cell_type": "code",
   "execution_count": 8,
   "metadata": {},
   "outputs": [
    {
     "name": "stdout",
     "output_type": "stream",
     "text": [
      "['14008524', '17007301', '17005292', '31009063', '42012584', '16034765', '24001354']\n"
     ]
    }
   ],
   "source": [
    "carnet = ['14008524', \n",
    "          '17007301', \n",
    "          '17005292',\n",
    "          '31009063',\n",
    "          '42012584',\n",
    "          '16034765',\n",
    "          '24001354']\n",
    "print(carnet)"
   ]
  },
  {
   "cell_type": "code",
   "execution_count": 9,
   "metadata": {},
   "outputs": [
    {
     "name": "stdout",
     "output_type": "stream",
     "text": [
      "['14008524', '17007301', '17005292', '24001354']\n"
     ]
    }
   ],
   "source": [
    "r4 = re.compile('^([0-2][1-9]|30)+0{2}+[1110-8970]')\n",
    "carnet_result = list(filter(r4.match, carnet))\n",
    "print(carnet_result)"
   ]
  },
  {
   "cell_type": "markdown",
   "metadata": {},
   "source": [
    "# 5\n",
    "5.) Cree una expresión regular que encuentre todas las palabras de la primera línea, pero ninguna de la segunda.\n",
    "\n",
    "    a. pit,spot,spate,slaptwo,respite \n",
    "    b. pt,Pot,peat,part"
   ]
  },
  {
   "cell_type": "code",
   "execution_count": 10,
   "metadata": {},
   "outputs": [
    {
     "name": "stdout",
     "output_type": "stream",
     "text": [
      "pit, spot, spate, slaptwo, respite \n",
      "pt, Pot, peat, part\n"
     ]
    }
   ],
   "source": [
    "r5 = \"pit, spot, spate, slaptwo, respite \\npt, Pot, peat, part\"\n",
    "print(r5)"
   ]
  },
  {
   "cell_type": "code",
   "execution_count": 11,
   "metadata": {},
   "outputs": [
    {
     "data": {
      "text/plain": [
       "['pit', 'spot', 'spate', 'slaptwo', 'respite']"
      ]
     },
     "execution_count": 11,
     "metadata": {},
     "output_type": "execute_result"
    }
   ],
   "source": [
    "regex=re.compile(r\"(\\bp.t\\b|\\bs.{3}\\b|\\bs.{4}\\b|\\bs.{6}\\b|\\br.{6})\")  \n",
    "regex.findall(r5)"
   ]
  },
  {
   "cell_type": "markdown",
   "metadata": {},
   "source": [
    "# 6\n",
    "6.) Cree una expresión regular para obtener los números telefónicos de Guatemala. Estos pueden contener al inicio +502 o 502, pueden estar separados por un espacio en blanco o un guión o juntos. Notar que los números telefónicos pueden empezar únicamente con 4,5,6 o 2.\n",
    "a. +50254821151,4210-7640,52018150,24346854,11234569, 50211234578"
   ]
  },
  {
   "cell_type": "code",
   "execution_count": 12,
   "metadata": {},
   "outputs": [
    {
     "name": "stdout",
     "output_type": "stream",
     "text": [
      "['+50254821151', '4210-7640', '52018150', '2434 6854', '11234569', '50211234578']\n"
     ]
    }
   ],
   "source": [
    "telefonos = ['+50254821151', \n",
    "             '4210-7640', \n",
    "             '52018150',\n",
    "             '2434 6854',\n",
    "             '11234569',\n",
    "             '50211234578']\n",
    "print(telefonos)"
   ]
  },
  {
   "cell_type": "code",
   "execution_count": 13,
   "metadata": {},
   "outputs": [
    {
     "name": "stdout",
     "output_type": "stream",
     "text": [
      "['+50254821151', '4210-7640', '52018150', '2434 6854', '50211234578']\n"
     ]
    }
   ],
   "source": [
    "r6 = re.compile('[502|+502]?'+'[ ]?'+'[2|4|5|6]'+'[\\d]{3}'+'[ \\-]?'+'[\\d]{4}')\n",
    "telefonos_result = list(filter(r6.match, telefonos))\n",
    "print(telefonos_result)"
   ]
  },
  {
   "cell_type": "markdown",
   "metadata": {},
   "source": [
    "# 7\n",
    "7.) Genere una expresión regular que sea capaz de obtener correos de la UFM."
   ]
  },
  {
   "cell_type": "code",
   "execution_count": 14,
   "metadata": {},
   "outputs": [
    {
     "name": "stdout",
     "output_type": "stream",
     "text": [
      "['ejemplo.uno@ufm.edu', 'hm_ksh@hotmail.com', 'cual_quier@ufm.edu']\n"
     ]
    }
   ],
   "source": [
    "correos = ['ejemplo.uno@ufm.edu', \n",
    "          'hm_ksh@hotmail.com', \n",
    "          'cual_quier@ufm.edu']\n",
    "print(correos)"
   ]
  },
  {
   "cell_type": "code",
   "execution_count": 15,
   "metadata": {},
   "outputs": [
    {
     "name": "stdout",
     "output_type": "stream",
     "text": [
      "['ejemplo.uno@ufm.edu', 'cual_quier@ufm.edu']\n"
     ]
    }
   ],
   "source": [
    "r7 = re.compile('[\\w]+[\\w|\\.|-][\\w]+[\\w|\\.|-]\\w+\\@+[ufm.edu]')\n",
    "correos_result = list(filter(r7.match, correos))\n",
    "print(correos_result)"
   ]
  },
  {
   "cell_type": "markdown",
   "metadata": {},
   "source": [
    "# 8\n",
    "8.) En el mundo distópico de Eurasia, Big Brother le asigna un identificador único a cada ciudadano. Genere una expresión regular que valide las identificaciones. Composición del id:\n",
    "\n",
    "    a. El id inicia con 0 a 3 letras minúsculas (puede tener 0 letras minúsculas hasta tres letras minúsculas)\n",
    "    \n",
    "    b. Luego es seguido por una cadena de dígitos que puede ser de 2 a 9 dígitos respectivamente.\n",
    "    \n",
    "    c. Inmediatamente después de la cadena de dígitos, se encuentra por lo menos tres letras mayúsculas.\n",
    "    \n",
    "    d. Ej:abc012333ABCDEEEE"
   ]
  },
  {
   "cell_type": "code",
   "execution_count": 16,
   "metadata": {},
   "outputs": [
    {
     "name": "stdout",
     "output_type": "stream",
     "text": [
      "['msh82KDH', 'abc012333ABCDEEEE', '749KHDI', '9MPS']\n"
     ]
    }
   ],
   "source": [
    "id = ['msh82KDH', \n",
    "      'abc012333ABCDEEEE', \n",
    "      '749KHDI',\n",
    "      '9MPS']\n",
    "print(id)"
   ]
  },
  {
   "cell_type": "code",
   "execution_count": 17,
   "metadata": {},
   "outputs": [
    {
     "name": "stdout",
     "output_type": "stream",
     "text": [
      "['msh82KDH', 'abc012333ABCDEEEE', '749KHDI']\n"
     ]
    }
   ],
   "source": [
    "r8 = re.compile('[a-z]{0,3}+[0-9]{2,9}+[A-Z]{3,}')\n",
    "id_result = list(filter(r8.match, id))\n",
    "print(id_result)"
   ]
  }
 ],
 "metadata": {
  "kernelspec": {
   "display_name": "Python 3",
   "language": "python",
   "name": "python3"
  },
  "language_info": {
   "codemirror_mode": {
    "name": "ipython",
    "version": 3
   },
   "file_extension": ".py",
   "mimetype": "text/x-python",
   "name": "python",
   "nbconvert_exporter": "python",
   "pygments_lexer": "ipython3",
   "version": "3.8.3"
  }
 },
 "nbformat": 4,
 "nbformat_minor": 4
}
